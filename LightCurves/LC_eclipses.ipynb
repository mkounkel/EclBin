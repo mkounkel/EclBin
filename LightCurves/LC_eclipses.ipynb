{
 "cells": [
  {
   "cell_type": "code",
   "execution_count": 9,
   "metadata": {},
   "outputs": [],
   "source": [
    "#import numpy, scipy, math and astropy libraries\n",
    "import numpy as np\n",
    "import scipy as sp\n",
    "import math\n",
    "import astropy\n",
    "from astropy.io import ascii\n",
    "from astropy.table import Table, Column\n",
    "import pandas as pd\n",
    "import csv\n",
    "\n",
    "\n",
    "#import graphics packages\n",
    "import matplotlib\n",
    "import matplotlib.pyplot as plt\n",
    "import matplotlib.cm as cm\n",
    "import matplotlib.mlab as mlab\n",
    "import matplotlib.colorbar as cb\n",
    "\n",
    "#set plotting defaults to values that make plots look publication ready\n",
    "from IPython.display import set_matplotlib_formats\n",
    "set_matplotlib_formats('pdf', 'png')\n",
    "plt.rcParams['savefig.dpi'] = 200\n",
    "plt.rcParams['figure.autolayout'] = False\n",
    "plt.rcParams['figure.figsize'] = 10, 6\n",
    "plt.rcParams['axes.labelsize'] = 14\n",
    "plt.rcParams['axes.titlesize'] = 16\n",
    "plt.rcParams['font.size'] = 14\n",
    "plt.rcParams['lines.linewidth'] = 1.5\n",
    "plt.rcParams['lines.markersize'] = 4\n",
    "plt.rcParams['legend.fontsize'] = 11\n",
    "matplotlib.rcParams['xtick.direction'] = 'out'\n",
    "matplotlib.rcParams['ytick.direction'] = 'out'\n",
    "\n",
    "#ensure that plots show up in our notebook (comment this out if converting to a script)\n",
    "%matplotlib notebook\n"
   ]
  },
  {
   "cell_type": "code",
   "execution_count": 3,
   "metadata": {},
   "outputs": [],
   "source": [
    "#opening the list of APOGEE type 1 IDs\n",
    "with open('/Volumes/CoveyData/APOGEE_Spectra/Anna/clean_IDs_list.csv') as csvfile:\n",
    "    LCData = csv.reader(csvfile, delimiter = ',')\n",
    "    listID = [0]\n",
    "    for row in LCData:\n",
    "        IDs = row[0]\n",
    "        listID.append(IDs)\n",
    "    del(listID[0])  \n",
    "    listID[0] = '2M00224443+8448486'\n",
    "\n",
    "#opening the list of the periods of the APOGEE IDs    \n",
    "with open('/Volumes/CoveyData/APOGEE_Spectra/Anna/periods.csv') as csvfile:\n",
    "    period = csv.reader(csvfile, delimiter = ',')\n",
    "    days = []\n",
    "    IDList = []\n",
    "    for this in period:\n",
    "        Apogee=this[0]\n",
    "        IDList.append(Apogee)\n",
    "        periods = this[1]\n",
    "        days.append(periods)"
   ]
  },
  {
   "cell_type": "code",
   "execution_count": 4,
   "metadata": {},
   "outputs": [
    {
     "name": "stdout",
     "output_type": "stream",
     "text": [
      "14.12 14.031\n"
     ]
    },
    {
     "data": {
      "text/plain": [
       "(14.5, 13.5)"
      ]
     },
     "execution_count": 4,
     "metadata": {},
     "output_type": "execute_result"
    },
    {
     "data": {
      "image/png": "[encoded data removed]",
      "text/plain": [
       "<Figure size 576x432 with 1 Axes>"
      ]
     },
     "metadata": {
      "needs_background": "light"
     },
     "output_type": "display_data"
    }
   ],
   "source": [
    "#read in the light curve\n",
    "LC = Table.read(\"/Volumes/CoveyData/APOGEE_Spectra/Anna/Light_curves/2M04403927+3306187.LC.csv\", data_start=1, delimiter=',')\n",
    "#LC.info()\n",
    "\n",
    "#define the period and calculate phase\n",
    "period = 0.40158\n",
    "phase = Column((LC['hjd'] % period) / period, name='phase')\n",
    "\n",
    "#compute a simpler JD\n",
    "simpleJD = Column(np.asarray(LC['hjd']) - np.ones(len(LC['hjd']))*2457000., name='simpleJD')\n",
    "\n",
    "#create a flag column; later we can get fancy if we want to omit some points\n",
    "flag = Column(np.ones(len(LC['hjd'])), name='flag')\n",
    "\n",
    "#create a version of the table to output for ellc\n",
    "LC.add_column(simpleJD, index=0)\n",
    "LC.remove_columns(['hjd', 'camera','filter','flux (mJy)', 'flux err'])\n",
    "LC.add_column(flag)\n",
    "LC.add_column(phase)\n",
    "\n",
    "#LC.info()\n",
    "\n",
    "#write out light curve in format that ellc can read in for fitting\n",
    "#ascii.write(LC, '2M04403927+3306187.dat')\n",
    "\n",
    "#find the location of the maximum magnitude value (which corresponds to the deepest eclipse)\n",
    "primary_eclipse = np.argmax(LC['mag'])\n",
    "phase_of_primary_eclipse = LC['phase'][primary_eclipse]\n",
    "mag_of_primary_eclipse = LC['mag'][primary_eclipse]\n",
    "\n",
    "#now search for phases that are within 0.2 of this phase, and create a copy of the magnitude \n",
    "#array that has the values within 0.2 in phase set them to -99.\n",
    "mags_for_secondary = np.where( (LC['phase'] > phase_of_primary_eclipse - 0.2) & (LC['phase'] < phase_of_primary_eclipse + 0.2), -99, LC['mag'])\n",
    "\n",
    "#now search this new magnitude array for its' maximum -- since the values near the primary have been \n",
    "#'masked' to -99., they won't be identified as the maximum, so we should usually get the secondary eclipse\n",
    "secondary_eclipse = np.argmax(mags_for_secondary)\n",
    "phase_of_secondary_eclipse = LC['phase'][secondary_eclipse]\n",
    "mag_of_secondary_eclipse = LC['mag'][secondary_eclipse]\n",
    "\n",
    "print(mag_of_primary_eclipse, mag_of_secondary_eclipse)\n",
    "\n",
    "fig=plt.figure(1,figsize=(8,6))\n",
    "\n",
    "plt.scatter(LC['phase'],LC['mag'],color='darkgreen',marker='x',s=3)\n",
    "plt.scatter([phase_of_primary_eclipse, phase_of_primary_eclipse], [mag_of_primary_eclipse, mag_of_primary_eclipse],color='red',marker='o',s=40)\n",
    "plt.scatter([phase_of_secondary_eclipse, phase_of_secondary_eclipse], [mag_of_secondary_eclipse, mag_of_secondary_eclipse],color='blue',marker='o',s=40)\n",
    "plt.xlim([0,1.0])\n",
    "plt.ylim([14.5,13.5])\n",
    "\n",
    "#plt.savefig('2M0440_LC_MarkPrimary+Secondary.jpg', bbox_inches='tight') \n",
    "#plt.show()"
   ]
  },
  {
   "cell_type": "code",
   "execution_count": 18,
   "metadata": {},
   "outputs": [
    {
     "ename": "SyntaxError",
     "evalue": "invalid syntax (<ipython-input-18-b787438e9b49>, line 46)",
     "output_type": "error",
     "traceback": [
      "\u001b[0;36m  File \u001b[0;32m\"<ipython-input-18-b787438e9b49>\"\u001b[0;36m, line \u001b[0;32m46\u001b[0m\n\u001b[0;31m    issue = pd.DataFrame([])\u001b[0m\n\u001b[0m        ^\u001b[0m\n\u001b[0;31mSyntaxError\u001b[0m\u001b[0;31m:\u001b[0m invalid syntax\n"
     ]
    }
   ],
   "source": [
    "def LightCurveEclipse(listofIDs):\n",
    "    i=0\n",
    "    #for loop that goes through all light curve files\n",
    "    for x in listofIDs: \n",
    "        #read in the light curve\n",
    "        LC = Table.read(\"/Volumes/CoveyData/APOGEE_Spectra/Anna/Light_curves/\"+x+\".LC.csv\", data_start=1, delimiter=',')\n",
    "\n",
    "        #define the period and calculate phase\n",
    "        period = float(days[i])\n",
    "        phase = Column((LC['hjd'] % period) / period, name='phase')\n",
    "        i = i+1\n",
    "        #compute a simpler JD\n",
    "        simpleJD = Column(np.asarray(LC['hjd']) - np.ones(len(LC['hjd']))*2457000., name='simpleJD')\n",
    "\n",
    "        #create a flag column; later we can get fancy if we want to omit some points\n",
    "        flag = Column(np.ones(len(LC['hjd'])), name='flag')\n",
    "\n",
    "        #create a version of the table to output for ellc\n",
    "        LC.add_column(simpleJD, index=0)\n",
    "        LC.remove_columns(['hjd', 'camera','filter','flux (mJy)', 'flux err'])\n",
    "        LC.add_column(flag)\n",
    "        LC.add_column(phase)\n",
    "\n",
    "        #LC.info()\n",
    "\n",
    "        #write out light curve in format that ellc can read in for fitting\n",
    "        #ascii.write(LC, '2M04403927+3306187.dat')\n",
    "\n",
    "        #find the location of the maximum magnitude value (which corresponds to the deepest eclipse)\n",
    "        primary_eclipse = np.argmax(LC['mag'])\n",
    "        phase_of_primary_eclipse = LC['phase'][primary_eclipse]\n",
    "        mag_of_primary_eclipse = LC['mag'][primary_eclipse]\n",
    "\n",
    "        #now search for phases that are within 0.2 of this phase, and create a copy of the magnitude \n",
    "        #array that has the values within 0.2 in phase set them to -99.\n",
    "        mags_for_secondary = np.where( (LC['phase'] > phase_of_primary_eclipse - 0.2) & (LC['phase'] < phase_of_primary_eclipse + 0.2), -99, LC['mag'])\n",
    "\n",
    "        #now search this new magnitude array for its' maximum -- since the values near the primary have been \n",
    "        #'masked' to -99., they won't be identified as the maximum, so we should usually get the secondary eclipse\n",
    "        secondary_eclipse = np.argmax(mags_for_secondary)\n",
    "        phase_of_secondary_eclipse = LC['phase'][secondary_eclipse]\n",
    "        mag_of_secondary_eclipse = LC['mag'][secondary_eclipse]\n",
    "        \n",
    "        \n",
    "                           \n",
    "LightCurveEclipse(listID)"
   ]
  },
  {
   "cell_type": "code",
   "execution_count": null,
   "metadata": {},
   "outputs": [],
   "source": []
  }
 ],
 "metadata": {
  "kernelspec": {
   "display_name": "Python 3",
   "language": "python",
   "name": "python3"
  },
  "language_info": {
   "codemirror_mode": {
    "name": "ipython",
    "version": 3
   },
   "file_extension": ".py",
   "mimetype": "text/x-python",
   "name": "python",
   "nbconvert_exporter": "python",
   "pygments_lexer": "ipython3",
   "version": "3.7.1"
  }
 },
 "nbformat": 4,
 "nbformat_minor": 2
}
